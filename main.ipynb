{
 "cells": [
  {
   "cell_type": "markdown",
   "metadata": {},
   "source": [
    "LOADING THE DATASET "
   ]
  },
  {
   "cell_type": "code",
   "execution_count": null,
   "metadata": {
    "vscode": {
     "languageId": "plaintext"
    }
   },
   "outputs": [],
   "source": [
    "import pandas as pd\n",
    "# Load the dataset\n",
    "df = pd.read_csv('/content/household_power_consumption.csv')\n",
    "print(df.head())"
   ]
  },
  {
   "cell_type": "markdown",
   "metadata": {},
   "source": [
    "PERFORMING EDA "
   ]
  },
  {
   "cell_type": "code",
   "execution_count": null,
   "metadata": {
    "vscode": {
     "languageId": "plaintext"
    }
   },
   "outputs": [],
   "source": [
    "import matplotlib.pyplot as plt\n",
    "import seaborn as sns\n",
    "\n",
    "# Convert numeric columns to proper types\n",
    "numerical_features = ['Global_active_power', 'Global_reactive_power', 'Voltage',\n",
    "                      'Global_intensity', 'Sub_metering_1', 'Sub_metering_2', 'Sub_metering_3']\n",
    "\n",
    "for col in numerical_features:\n",
    "    df[col] = pd.to_numeric(df[col], errors='coerce')  # Convert to numeric, force invalid values to NaN\n",
    "\n",
    "# Box plots to check for outliers\n",
    "for col in numerical_features:\n",
    "    plt.figure(figsize=(6, 4))\n",
    "    sns.boxplot(x=df[col])\n",
    "    plt.title(f'Boxplot of {col}')\n",
    "    plt.show()"
   ]
  },
  {
   "cell_type": "markdown",
   "metadata": {},
   "source": [
    "DATA PREPROCESSING"
   ]
  },
  {
   "cell_type": "code",
   "execution_count": null,
   "metadata": {
    "vscode": {
     "languageId": "plaintext"
    }
   },
   "outputs": [],
   "source": [
    "missing_values = df.isna().sum()\n",
    "\n",
    "# Calculate the percentage of missing values\n",
    "missing_percentage = (missing_values / len(df)) * 100\n",
    "\n",
    "# Display missing value percentages\n",
    "print(missing_percentage)\n",
    "\n",
    "# HANDLING MISSING OR INCONSISTENT DATA\n",
    "\n",
    "# Drop highly missing columns\n",
    "df.drop(columns=['Sub_metering_1', 'Sub_metering_2', 'Sub_metering_3'], inplace=True)\n",
    "\n",
    "for col in ['Global_active_power', 'Global_reactive_power', 'Voltage', 'Global_intensity']:\n",
    "    df[col] = pd.to_numeric(df[col], errors='coerce')\n",
    "for col in ['Global_active_power', 'Global_reactive_power', 'Voltage', 'Global_intensity']:\n",
    "    df[col].fillna(df[col].mean(), inplace=True)"
   ]
  },
  {
   "cell_type": "code",
   "execution_count": null,
   "metadata": {
    "vscode": {
     "languageId": "plaintext"
    }
   },
   "outputs": [],
   "source": [
    "# Parse Date and Time into Separate Features\n",
    "\n",
    "\n",
    "import pandas as pd\n",
    "# Convert 'Date' to datetime format\n",
    "df['Date'] = pd.to_datetime(df['Date'], dayfirst=True)\n",
    "\n",
    "# Convert 'Time' to string (if it's stored as datetime.time)\n",
    "df['Time'] = df['Time'].astype(str)\n",
    "\n",
    "# Concatenate 'Date' and 'Time' and convert to datetime\n",
    "df['Datetime'] = pd.to_datetime(df['Date'].astype(str) + ' ' + df['Time'])\n",
    "df.head()"
   ]
  },
  {
   "cell_type": "code",
   "execution_count": null,
   "metadata": {
    "vscode": {
     "languageId": "plaintext"
    }
   },
   "outputs": [],
   "source": [
    "#Creating additional features such as daily averages, peak hours, or rolling averages.\n",
    "\n",
    "\n",
    "#Extract Year, Month, Day, and Hour after creating Datetime\n",
    "df['Year'] = df['Datetime'].dt.year\n",
    "df['Month'] = df['Datetime'].dt.month\n",
    "df['Day'] = df['Datetime'].dt.day\n",
    "df['Hour'] = df['Datetime'].dt.hour  # Extract Hour for peak hours\n",
    "\n",
    "#Create daily averages\n",
    "df['Daily_avg_power'] = df.groupby(['Year', 'Month', 'Day'])['Global_active_power'].transform('mean')\n",
    "\n",
    "#Identify peak hours (6 AM - 9 AM & 5 PM - 9 PM)\n",
    "df['Peak_Hour'] = df['Hour'].apply(lambda x: 1 if (6 <= x <= 9) or (17 <= x <= 21) else 0)\n",
    "\n",
    "# Create a rolling average (e.g., 3-hour window)\n",
    "df['Rolling_avg_power'] = df['Global_active_power'].rolling(window=3, min_periods=1).mean()\n",
    "\n",
    "df.head()"
   ]
  },
  {
   "cell_type": "code",
   "execution_count": null,
   "metadata": {
    "vscode": {
     "languageId": "plaintext"
    }
   },
   "outputs": [],
   "source": [
    "#Normalizing the data for better model performance.\n",
    "\n",
    "from sklearn.preprocessing import StandardScaler\n",
    "\n",
    "scaler = StandardScaler()\n",
    "numerical_cols = ['Global_active_power', 'Global_reactive_power', 'Voltage', 'Global_intensity', 'Daily_avg_power', 'Rolling_avg_power']\n",
    "df[numerical_cols] = scaler.fit_transform(df[numerical_cols])\n",
    "df.head()"
   ]
  },
  {
   "cell_type": "markdown",
   "metadata": {},
   "source": [
    "FEATURE EXTRACTION"
   ]
  },
  {
   "cell_type": "code",
   "execution_count": null,
   "metadata": {
    "vscode": {
     "languageId": "plaintext"
    }
   },
   "outputs": [],
   "source": [
    "# Extract more temporal features\n",
    "df['Weekday'] = df['Datetime'].dt.weekday  # Monday=0, Sunday=6\n",
    "df['Is_Weekend'] = df['Weekday'].apply(lambda x: 1 if x >= 5 else 0)  # 1 if Sat/Sun, else 0\n",
    "df['Is_Working_Hour'] = df['Hour'].apply(lambda x: 1 if 9 <= x <= 17 else 0)  # Office hours 9 AM - 5 PM"
   ]
  },
  {
   "cell_type": "code",
   "execution_count": null,
   "metadata": {
    "vscode": {
     "languageId": "plaintext"
    }
   },
   "outputs": [],
   "source": [
    "# Create lag features for previous hours\n",
    "df['Lag_1'] = df['Global_active_power'].shift(1)  # 1-hour lag\n",
    "df['Lag_3'] = df['Global_active_power'].shift(3)  # 3-hour lag\n",
    "df['Lag_24'] = df['Global_active_power'].shift(24)  # 24-hour lag (previous day)"
   ]
  },
  {
   "cell_type": "code",
   "execution_count": null,
   "metadata": {
    "vscode": {
     "languageId": "plaintext"
    }
   },
   "outputs": [],
   "source": [
    "# Rolling mean features\n",
    "df['Rolling_Mean_6'] = df['Global_active_power'].rolling(window=6, min_periods=1).mean()  # 6-hour average\n",
    "df['Rolling_Mean_24'] = df['Global_active_power'].rolling(window=24, min_periods=1).mean()  # 24-hour average\n"
   ]
  },
  {
   "cell_type": "code",
   "execution_count": null,
   "metadata": {
    "vscode": {
     "languageId": "plaintext"
    }
   },
   "outputs": [],
   "source": [
    "# Interaction between power and voltage\n",
    "df['Power_Voltage_Interaction'] = df['Global_active_power'] * df['Voltage']\n",
    "\n",
    "# Ratio of reactive power to active power\n",
    "df['Power_Ratio'] = df['Global_reactive_power'] / (df['Global_active_power'] + 1e-6)  # Avoid division by zero\n",
    "df.fillna(0, inplace=True)\n",
    "\n",
    "print(df.head())  # Preview the dataset\n",
    "print(df.info())  # Check data types and missing values\n"
   ]
  },
  {
   "cell_type": "markdown",
   "metadata": {},
   "source": [
    "MODEL TRAINING"
   ]
  },
  {
   "cell_type": "code",
   "execution_count": null,
   "metadata": {
    "vscode": {
     "languageId": "plaintext"
    }
   },
   "outputs": [],
   "source": [
    "from sklearn.model_selection import train_test_split\n",
    "\n",
    "# Drop unnecessary columns (Datetime, Date, Time) and select features\n",
    "features = df.drop(columns=['Global_active_power', 'Datetime', 'Date', 'Time'])\n",
    "target = df['Global_active_power']\n",
    "\n",
    "# Split dataset (80% train, 20% test) without shuffling (time series split)\n",
    "X_train, X_test, y_train, y_test = train_test_split(features, target, test_size=0.2, shuffle=False, random_state=42)\n",
    "\n",
    "# Reset index after splitting (optional but cleaner)\n",
    "X_train.reset_index(drop=True, inplace=True)\n",
    "X_test.reset_index(drop=True, inplace=True)\n",
    "y_train.reset_index(drop=True, inplace=True)\n",
    "y_test.reset_index(drop=True, inplace=True)\n",
    "\n",
    "# Display dataset shapes\n",
    "print(f\"X_train shape: {X_train.shape}, X_test shape: {X_test.shape}\")\n",
    "print(f\"y_train shape: {y_train.shape}, y_test shape: {y_test.shape}\")"
   ]
  },
  {
   "cell_type": "code",
   "execution_count": null,
   "metadata": {
    "vscode": {
     "languageId": "plaintext"
    }
   },
   "outputs": [],
   "source": [
    "#Linear Regression\n",
    "\n",
    "from sklearn.linear_model import LinearRegression\n",
    "\n",
    "lr_model = LinearRegression()\n",
    "lr_model.fit(X_train, y_train)"
   ]
  },
  {
   "cell_type": "code",
   "execution_count": null,
   "metadata": {
    "vscode": {
     "languageId": "plaintext"
    }
   },
   "outputs": [],
   "source": [
    "#Random Forest Regressor\n",
    "\n",
    "from sklearn.ensemble import RandomForestRegressor\n",
    "\n",
    "rf_model = RandomForestRegressor(n_estimators=100, random_state=42)\n",
    "rf_model.fit(X_train, y_train)\n"
   ]
  },
  {
   "cell_type": "code",
   "execution_count": null,
   "metadata": {
    "vscode": {
     "languageId": "plaintext"
    }
   },
   "outputs": [],
   "source": [
    "#Gradient Boosting (XGBoost)\n",
    "\n",
    "from xgboost import XGBRegressor\n",
    "\n",
    "xgb_model = XGBRegressor(n_estimators=100, learning_rate=0.1, random_state=42)\n",
    "xgb_model.fit(X_train, y_train)"
   ]
  },
  {
   "cell_type": "code",
   "execution_count": null,
   "metadata": {
    "vscode": {
     "languageId": "plaintext"
    }
   },
   "outputs": [],
   "source": [
    "#Neural Network (MLP Regressor)\n",
    "\n",
    "from sklearn.neural_network import MLPRegressor\n",
    "\n",
    "nn_model = MLPRegressor(hidden_layer_sizes=(64, 32), max_iter=500, random_state=42)\n",
    "nn_model.fit(X_train, y_train)\n"
   ]
  },
  {
   "cell_type": "markdown",
   "metadata": {},
   "source": [
    "EVALUATION"
   ]
  },
  {
   "cell_type": "code",
   "execution_count": null,
   "metadata": {
    "vscode": {
     "languageId": "plaintext"
    }
   },
   "outputs": [],
   "source": [
    "from sklearn.metrics import mean_squared_error, mean_absolute_error, r2_score\n",
    "\n",
    "# Function to evaluate models\n",
    "def evaluate_model(model, X_test, y_test, model_name):\n",
    "    y_pred = model.predict(X_test)\n",
    "    rmse = mean_squared_error(y_test, y_pred) ** 0.5  # Manually compute RMSE\n",
    "    mae = mean_absolute_error(y_test, y_pred)\n",
    "    r2 = r2_score(y_test, y_pred)\n",
    "\n",
    "    return {\"Model\": model_name, \"RMSE\": rmse, \"MAE\": mae, \"R² Score\": r2}\n",
    "\n",
    "# Evaluate all models\n",
    "results = []\n",
    "results.append(evaluate_model(lr_model, X_test, y_test, \"Linear Regression\"))\n",
    "results.append(evaluate_model(rf_model, X_test, y_test, \"Random Forest Regressor\"))\n",
    "results.append(evaluate_model(xgb_model, X_test, y_test, \"XGBoost Regressor\"))\n",
    "results.append(evaluate_model(nn_model, X_test, y_test, \"MLP Regressor (Neural Network)\"))\n",
    "\n",
    "# Convert results to DataFrame for better visualization\n",
    "import pandas as pd\n",
    "results_df = pd.DataFrame(results).sort_values(by=\"RMSE\")\n",
    "print(\"Model Performance Summary:\")\n",
    "print(results_df)"
   ]
  }
 ],
 "metadata": {
  "language_info": {
   "name": "python"
  }
 },
 "nbformat": 4,
 "nbformat_minor": 2
}
